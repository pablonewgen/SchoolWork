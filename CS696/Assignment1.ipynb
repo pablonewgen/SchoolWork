{
 "cells": [
  {
   "cell_type": "markdown",
   "metadata": {},
   "source": [
    "# Assignment 1\n",
    "## CS696: Intro to Big Data (Fall 2017)\n",
    "\n",
    "**Paul Truong Nguyen**\n",
    "\n",
    "810922821"
   ]
  },
  {
   "cell_type": "markdown",
   "metadata": {},
   "source": [
    "## 1. sum_multiples_3_5\n",
    "\n",
    "If we list all the natural numbers below 20 that are multiples of 3 or 5 but not multiples both\n",
    "of 3 and 5, we get 3, 5, 6, 9, 10, 12, 18. The sum of these multiples is 63. Write a function,\n",
    "sum_multiples_3_5, that returns the sum of the multiples of 3 and 5 less than N."
   ]
  },
  {
   "cell_type": "code",
   "execution_count": 22,
   "metadata": {},
   "outputs": [
    {
     "data": {
      "text/plain": [
       "defined \u001b[32mfunction\u001b[39m \u001b[36msum_multiples_3_5\u001b[39m\r\n",
       "\u001b[36mres21_1\u001b[39m: \u001b[32mInt\u001b[39m = \u001b[32m63\u001b[39m\r\n",
       "\u001b[36mres21_2\u001b[39m: \u001b[32mInt\u001b[39m = \u001b[32m49503\u001b[39m"
      ]
     },
     "execution_count": 22,
     "metadata": {},
     "output_type": "execute_result"
    }
   ],
   "source": [
    "// #1\n",
    "def sum_multiples_3_5( n:Int ) : Int = {\n",
    "    val a = 0\n",
    "    var sum:Int = 0\n",
    "\n",
    "    for( a <- 1 until n){\n",
    "      if( (a % 3 == 0) || (a % 5 == 0) ) {\n",
    "        if (a % 15 != 0) {\n",
    "          sum = sum + a\n",
    "        }\n",
    "      }\n",
    "    }\n",
    "    return sum\n",
    "  }\n",
    "\n",
    "sum_multiples_3_5(20)\n",
    "sum_multiples_3_5(500)"
   ]
  },
  {
   "cell_type": "markdown",
   "metadata": {},
   "source": [
    "## 2. patternCount(textString, patternString)\n",
    "\n",
    "Write a function, patternCount with two arguments. The first arguments is a string, lets call\n",
    "it text, and the second argument is also a string, call it pattern. The function patternCount\n",
    "returns the number of times the pattern occurs in the text. For example:\n",
    "\n",
    "    pattern_count(“abababa”, “aba”) == 3\n",
    "    pattern_count(“aaaaa”, “aa”) == 4\n",
    "    pattern_count(“Abcde”, “abc”) == 0"
   ]
  },
  {
   "cell_type": "code",
   "execution_count": 4,
   "metadata": {},
   "outputs": [
    {
     "data": {
      "text/plain": [
       "defined \u001b[32mfunction\u001b[39m \u001b[36mpatternCount\u001b[39m\r\n",
       "\u001b[36mres3_1\u001b[39m: \u001b[32mInt\u001b[39m = \u001b[32m3\u001b[39m\r\n",
       "\u001b[36mres3_2\u001b[39m: \u001b[32mInt\u001b[39m = \u001b[32m4\u001b[39m\r\n",
       "\u001b[36mres3_3\u001b[39m: \u001b[32mInt\u001b[39m = \u001b[32m0\u001b[39m\r\n",
       "\u001b[36mres3_4\u001b[39m: \u001b[32mInt\u001b[39m = \u001b[32m1\u001b[39m"
      ]
     },
     "execution_count": 4,
     "metadata": {},
     "output_type": "execute_result"
    }
   ],
   "source": [
    "// #2\n",
    "def patternCount(string: String, pattern: String): Int = {\n",
    "  val patternLength = pattern.length()\n",
    "  val i = 0\n",
    "  var counter:Int = 0\n",
    "  for (i <- 0 to string.length()) {\n",
    "    if (i + patternLength < string.length()+ 1){\n",
    "      val subString = string.substring(i, i + patternLength)\n",
    "      if (subString == pattern) {\n",
    "        counter += 1\n",
    "      }\n",
    "    }\n",
    "  }\n",
    "  return counter\n",
    "}\n",
    "\n",
    "patternCount(\"abababa\",\"aba\")\n",
    "patternCount(\"aaaaa\",\"aa\")\n",
    "patternCount(\"Abcde\",\"abc\")\n",
    "patternCount(\"abcde\",\"abc\")"
   ]
  },
  {
   "cell_type": "markdown",
   "metadata": {},
   "source": [
    "##  3. product(s : String)\n",
    "\n",
    "Write a function product(s : String) that returns the product of the Unicode codes of all letters\n",
    "in string s without using a loop."
   ]
  },
  {
   "cell_type": "code",
   "execution_count": 8,
   "metadata": {},
   "outputs": [
    {
     "data": {
      "text/plain": [
       "defined \u001b[32mfunction\u001b[39m \u001b[36mproduct\u001b[39m\r\n",
       "\u001b[36mres7_1\u001b[39m: \u001b[32mInt\u001b[39m = \u001b[32m54656\u001b[39m\r\n",
       "\u001b[36mres7_2\u001b[39m: \u001b[32mInt\u001b[39m = \u001b[32m24064\u001b[39m\r\n",
       "\u001b[36mres7_3\u001b[39m: \u001b[32mInt\u001b[39m = \u001b[32m4480\u001b[39m"
      ]
     },
     "execution_count": 8,
     "metadata": {},
     "output_type": "execute_result"
    }
   ],
   "source": [
    "// #3\n",
    "def product(s : String): Int = {\n",
    "  var unicodeSum:Int = 0\n",
    "  val stringCleaned = s.replaceAll(\"[^a-zA-Z]+\", \"\")\n",
    "  unicodeSum = stringCleaned.product.toInt\n",
    "  return unicodeSum\n",
    "}\n",
    "\n",
    "product(\"Hello\")\n",
    "product(\"This is a test\")\n",
    "product(\"My name is Paul\")"
   ]
  },
  {
   "cell_type": "markdown",
   "metadata": {},
   "source": [
    "## 4. noDuplicates(ints : Array[Int])\n",
    "\n",
    "Write a function noDuplicates(ints : Array[Int]) that returns an array all values from the array\n",
    "ints with duplicates removed."
   ]
  },
  {
   "cell_type": "code",
   "execution_count": 9,
   "metadata": {},
   "outputs": [
    {
     "data": {
      "text/plain": [
       "defined \u001b[32mfunction\u001b[39m \u001b[36mnoDuplicates\u001b[39m\r\n",
       "\u001b[36mtest1\u001b[39m: \u001b[32mArray\u001b[39m[\u001b[32mInt\u001b[39m] = \u001b[33mArray\u001b[39m(\u001b[32m1\u001b[39m, \u001b[32m2\u001b[39m, \u001b[32m3\u001b[39m, \u001b[32m1\u001b[39m, \u001b[32m3\u001b[39m, \u001b[32m6\u001b[39m, \u001b[32m6\u001b[39m)\r\n",
       "\u001b[36mtest2\u001b[39m: \u001b[32mArray\u001b[39m[\u001b[32mInt\u001b[39m] = \u001b[33mArray\u001b[39m(\u001b[32m1\u001b[39m, \u001b[32m2\u001b[39m, \u001b[32m3\u001b[39m, \u001b[32m1\u001b[39m, \u001b[32m3\u001b[39m, \u001b[32m6\u001b[39m, \u001b[32m6\u001b[39m, \u001b[32m6\u001b[39m, \u001b[32m7\u001b[39m, \u001b[32m2\u001b[39m, \u001b[32m5\u001b[39m, \u001b[32m9\u001b[39m, \u001b[32m8\u001b[39m, \u001b[32m8\u001b[39m, \u001b[32m5\u001b[39m, \u001b[32m1\u001b[39m, \u001b[32m9\u001b[39m)\r\n",
       "\u001b[36mres8_3\u001b[39m: \u001b[32mArray\u001b[39m[\u001b[32mInt\u001b[39m] = \u001b[33mArray\u001b[39m(\u001b[32m1\u001b[39m, \u001b[32m2\u001b[39m, \u001b[32m3\u001b[39m, \u001b[32m6\u001b[39m)\r\n",
       "\u001b[36mres8_4\u001b[39m: \u001b[32mArray\u001b[39m[\u001b[32mInt\u001b[39m] = \u001b[33mArray\u001b[39m(\u001b[32m1\u001b[39m, \u001b[32m2\u001b[39m, \u001b[32m3\u001b[39m, \u001b[32m6\u001b[39m, \u001b[32m7\u001b[39m, \u001b[32m5\u001b[39m, \u001b[32m9\u001b[39m, \u001b[32m8\u001b[39m)"
      ]
     },
     "execution_count": 9,
     "metadata": {},
     "output_type": "execute_result"
    }
   ],
   "source": [
    "// #4\n",
    "def noDuplicates(ints : Array[Int]): Array[Int] = {\n",
    "  val arrayOfInts = ints.distinct\n",
    "  return arrayOfInts\n",
    "}\n",
    "\n",
    "val test1 = Array(1, 2, 3, 1, 3, 6, 6)\n",
    "val test2 = Array(1, 2, 3, 1, 3, 6, 6, 6, 7, 2, 5, 9, 8, 8, 5, 1, 9)\n",
    "noDuplicates(test1)\n",
    "noDuplicates(test2)"
   ]
  },
  {
   "cell_type": "markdown",
   "metadata": {},
   "source": [
    "## 5. floatArrayError()\n",
    "\n",
    "Create an array that contains the value 0.00001f repeated 1000000 times. Sum up all the\n",
    "elements of the array. What is the result? How big is the error?"
   ]
  },
  {
   "cell_type": "code",
   "execution_count": 10,
   "metadata": {},
   "outputs": [
    {
     "data": {
      "text/plain": [
       "defined \u001b[32mfunction\u001b[39m \u001b[36mfloatArrayError\u001b[39m\r\n",
       "\u001b[36mres9_1\u001b[39m: \u001b[32mDouble\u001b[39m = \u001b[32m2.3779673418425154E-8\u001b[39m"
      ]
     },
     "execution_count": 10,
     "metadata": {},
     "output_type": "execute_result"
    }
   ],
   "source": [
    "// #5 \n",
    "def floatArrayError(): Double = {\n",
    "  val i:Int = 0\n",
    "  var error:Double = 0\n",
    "  val arrayOfDoubles = new Array[Double] (1000000)\n",
    "  for (i <- 1 until 1000000 ) {\n",
    "    arrayOfDoubles(i) = 0.00001f\n",
    "  }\n",
    "  val floatVersion:Float = (arrayOfDoubles.sum).toFloat\n",
    "  error = (math.abs((arrayOfDoubles.sum) - floatVersion))/floatVersion\n",
    "  return error\n",
    "}\n",
    "\n",
    "floatArrayError()"
   ]
  },
  {
   "cell_type": "markdown",
   "metadata": {},
   "source": [
    "## 6. accurateSummation()\n",
    "\n",
    "Using Scala compute the sums 0.0001f + 8000.0f and 0.000000001 + 90000000. What is\n",
    "the result? How big is the error?"
   ]
  },
  {
   "cell_type": "code",
   "execution_count": 12,
   "metadata": {},
   "outputs": [
    {
     "name": "stdout",
     "output_type": "stream",
     "text": [
      "First sum was: 8000.0 . But was expected to be: 8000.0001\n",
      "The margin of error was: 1.2499999869033954E-8\n",
      "Second sum was: 9.0E7 . But was expected to be: 90000000.000000001\n",
      "The margin of error was: 1.111111111111111098765432098765432E-17\n"
     ]
    },
    {
     "data": {
      "text/plain": [
       "defined \u001b[32mfunction\u001b[39m \u001b[36maccurateSummation\u001b[39m"
      ]
     },
     "execution_count": 12,
     "metadata": {},
     "output_type": "execute_result"
    }
   ],
   "source": [
    "// #6\n",
    "def accurateSummation() = {\n",
    "  val firstSum = (0.0001f + 8000.0f)\n",
    "  val firstExpectedValue = 8000.0 + 0.0001\n",
    "  println(\"First sum was: \" + firstSum + \" . But was expected to be: \" + firstExpectedValue)\n",
    "  val firstError = (math.abs(firstSum - firstExpectedValue))/ firstExpectedValue\n",
    "  println(\"The margin of error was: \" + firstError)\n",
    "\n",
    "  val secondSum = (90000000 + 0.000000001)\n",
    "  val secondA:BigDecimal = BigDecimal(0.000000001)\n",
    "  val secondB:BigDecimal = BigDecimal(90000000)\n",
    "  val secondExpectedValue:BigDecimal = secondA + secondB\n",
    "\n",
    "  println(\"Second sum was: \" + secondSum + \" . But was expected to be: \" + f\"$secondExpectedValue%8.9f\")\n",
    "  val secondError = ((secondSum - secondExpectedValue).abs)/ secondExpectedValue\n",
    "  println(\"The margin of error was: \" + secondError)\n",
    "}\n",
    "\n",
    "accurateSummation()"
   ]
  },
  {
   "cell_type": "markdown",
   "metadata": {},
   "source": [
    "## 7.  randomInts(n:Int, range:Int)\n",
    "\n",
    "Write a function randomInts(n:Int, range:Int) that returns an array of n integers all between\n",
    "0 and range."
   ]
  },
  {
   "cell_type": "code",
   "execution_count": 35,
   "metadata": {},
   "outputs": [
    {
     "data": {
      "text/plain": [
       "defined \u001b[32mfunction\u001b[39m \u001b[36mrandomInts\u001b[39m\r\n",
       "\u001b[36mres34_1\u001b[39m: \u001b[32mArray\u001b[39m[\u001b[32mInt\u001b[39m] = \u001b[33mArray\u001b[39m(\u001b[32m15\u001b[39m, \u001b[32m50\u001b[39m, \u001b[32m74\u001b[39m, \u001b[32m88\u001b[39m, \u001b[32m91\u001b[39m, \u001b[32m66\u001b[39m, \u001b[32m36\u001b[39m, \u001b[32m88\u001b[39m, \u001b[32m23\u001b[39m, \u001b[32m13\u001b[39m)\r\n",
       "\u001b[36mres34_2\u001b[39m: \u001b[32mArray\u001b[39m[\u001b[32mInt\u001b[39m] = \u001b[33mArray\u001b[39m(\u001b[32m6\u001b[39m, \u001b[32m1\u001b[39m, \u001b[32m14\u001b[39m, \u001b[32m28\u001b[39m, \u001b[32m22\u001b[39m, \u001b[32m7\u001b[39m, \u001b[32m21\u001b[39m)\r\n",
       "\u001b[36mres34_3\u001b[39m: \u001b[32mArray\u001b[39m[\u001b[32mInt\u001b[39m] = \u001b[33mArray\u001b[39m(\u001b[32m3\u001b[39m, \u001b[32m12\u001b[39m, \u001b[32m1\u001b[39m, \u001b[32m6\u001b[39m, \u001b[32m16\u001b[39m)"
      ]
     },
     "execution_count": 35,
     "metadata": {},
     "output_type": "execute_result"
    }
   ],
   "source": [
    "// #7\n",
    "def randomInts(n:Int, range:Int): Array[Int] = {\n",
    "  val r = new scala.util.Random(range)\n",
    "  val arrayOfInts = new Array[Int] (n)\n",
    "  val i:Int = 0\n",
    "  for (i <- 0 until n) {\n",
    "    arrayOfInts(i) = r.nextInt(range)\n",
    "  }\n",
    "  return arrayOfInts\n",
    "}\n",
    "\n",
    "randomInts(10, 100)\n",
    "randomInts(7, 29)\n",
    "randomInts(5, 17)"
   ]
  },
  {
   "cell_type": "markdown",
   "metadata": {},
   "source": [
    "## 8. avgAndMedian()\n",
    "\n",
    "Create three files with random integers in the range 0 to Int.MaxValue/2. The first file contains\n",
    "1,000 integers, the second 100,000 integers, the third 10,000,000 integers. Write\n",
    "scala code to find the average and median value for each file. What are the average and\n",
    "median value for each file? How long does it take compute those values for each file? "
   ]
  },
  {
   "cell_type": "code",
   "execution_count": 21,
   "metadata": {},
   "outputs": [
    {
     "data": {
      "text/plain": [
       "\u001b[32mimport \u001b[39m\u001b[36mscala.io.Source\r\n",
       "\r\n",
       "//  Create files with random numbers\r\n",
       "\u001b[39m\r\n",
       "defined \u001b[32mfunction\u001b[39m \u001b[36mwritingFile\u001b[39m\r\n",
       "defined \u001b[32mfunction\u001b[39m \u001b[36mavgAndMedian\u001b[39m"
      ]
     },
     "execution_count": 21,
     "metadata": {},
     "output_type": "execute_result"
    }
   ],
   "source": [
    "// #8\n",
    "\n",
    "import scala.io.Source\n",
    "\n",
    "//  Create files with random numbers\n",
    "def writingFile() = {\n",
    "  import java.io._\n",
    "  val i: Int = 0\n",
    "  val j: Int = 0\n",
    "  val k: Int = 0\n",
    "  val range = Int.MaxValue/2\n",
    "  val medianA: Int = 0\n",
    "  val medianB: Int = 0\n",
    "  val medianC: Int = 0\n",
    "  var string1000: String = \"\"\n",
    "  var string100000: String = \"\"\n",
    "  var string10000000: String = \"\"\n",
    "  val r = new scala.util.Random()\n",
    "\n",
    "  // Direct path was included due to Windows 10 file permission issues  \n",
    "  val pw1000 = new PrintWriter(\"E:\\\\Schoolwork\\\\CS696\\\\assignment1\\\\src\\\\main\\\\scala\\\\1000.txt\")\n",
    "  val pw100000 = new PrintWriter(\"E:\\\\Schoolwork\\\\CS696\\\\assignment1\\\\src\\\\main\\\\scala\\\\100000.txt\")\n",
    "  val pw10000000 = new PrintWriter(\"E:\\\\Schoolwork\\\\CS696\\\\assignment1\\\\src\\\\main\\\\scala\\\\10000000.txt\")\n",
    "\n",
    "  for (i <- 0 until 1000) {\n",
    "    val fillerA = r.nextInt(range)\n",
    "    pw1000.write(fillerA.toString + \"\\r\\n\")\n",
    "  }\n",
    "\n",
    "  for (j <- 0 until 100000) {\n",
    "    val fillerB = r.nextInt(range)\n",
    "    pw100000.write(fillerB.toString + \"\\r\\n\")\n",
    "  }\n",
    "\n",
    "  for (k <- 0 until 10000000) {\n",
    "    val fillerC = r.nextInt(range)\n",
    "    pw10000000.write(fillerC.toString + \"\\r\\n\")\n",
    "  }\n",
    "\n",
    "  pw1000.close\n",
    "  pw100000.close\n",
    "  pw10000000.close\n",
    "}\n",
    "\n",
    "def avgAndMedian() = {\n",
    "  def average(arr: Array[BigInt]): BigInt = {\n",
    "    var avg: BigInt = 0\n",
    "    avg = (arr.sum)/(arr.length)\n",
    "    return avg\n",
    "  }\n",
    "\n",
    "  def median(arr: Array[BigInt]): BigInt = {\n",
    "    var median: BigInt = 0\n",
    "    val (topHalf, bottomHalf) = arr.sorted.splitAt(arr.length/2)\n",
    "    if(arr.length % 2 == 0){\n",
    "     median = ((topHalf.last + bottomHalf.head)/2)\n",
    "    }\n",
    "    else {\n",
    "      median = bottomHalf.head\n",
    "    }\n",
    "    return median\n",
    "  }\n",
    "\n",
    "  // Direct path was included due to Windows 10 file permission issues  \n",
    "  val fileA = \"E:\\\\Schoolwork\\\\CS696\\\\assignment1\\\\src\\\\main\\\\scala\\\\1000.txt\"\n",
    "  val fileB = \"E:\\\\Schoolwork\\\\CS696\\\\assignment1\\\\src\\\\main\\\\scala\\\\100000.txt\"\n",
    "  val fileC = \"E:\\\\Schoolwork\\\\CS696\\\\assignment1\\\\src\\\\main\\\\scala\\\\10000000.txt\"\n",
    "\n",
    "  val arrayforA = (Source.fromFile(fileA).getLines()).toArray\n",
    "  val intArrayA = arrayforA.map(BigInt(_))\n",
    "\n",
    "  val timeAvgAStart = System.nanoTime\n",
    "  val avgA = average(intArrayA)\n",
    "  val timeAvgA = System.nanoTime() - timeAvgAStart\n",
    "\n",
    "  val timeMedianAStart = System.nanoTime\n",
    "  val medianA = median(intArrayA)\n",
    "  val timeMedianA = System.nanoTime() - timeMedianAStart\n",
    "  println(\"Average for \" + fileA + \": average: \" + avgA + \", timing: (In nano seconds) \" + timeAvgA)\n",
    "  println(\"Median for \" + fileA + \": median: \" + medianA + \" , timing: (In nano seconds) \" + timeMedianA)\n",
    "  println()\n",
    "\n",
    "  val arrayforB = (Source.fromFile(fileB).getLines()).toArray\n",
    "  val intArrayB = arrayforB.map(BigInt(_))\n",
    "\n",
    "  val timeAvgBStart = System.nanoTime\n",
    "  val avgB = average(intArrayB)\n",
    "  val timeAvgB = System.nanoTime() - timeAvgBStart\n",
    "\n",
    "  val timeMedianBStart = System.nanoTime\n",
    "  val medianB = median(intArrayB)\n",
    "  val timeMedianB = System.nanoTime() - timeMedianBStart\n",
    "  println(\"Average for \" + fileB + \": average: \" + avgB + \", timing: (In nano seconds) \" + timeAvgB)\n",
    "  println(\"Median for \" + fileB + \": median: \" + medianB + \" , timing: (In nano seconds) \" + timeMedianB)\n",
    "  println()\n",
    "\n",
    "  val arrayforC = (Source.fromFile(fileC).getLines()).toArray\n",
    "  val intArrayC = arrayforC.map(BigInt(_))\n",
    "\n",
    "  val timeAvgCStart = System.nanoTime\n",
    "  val avgC = average(intArrayC)\n",
    "  val timeAvgC = System.nanoTime() - timeAvgCStart\n",
    "\n",
    "  val timeMedianCStart = System.nanoTime\n",
    "  val medianC = median(intArrayC)\n",
    "  val timeMedianC = System.nanoTime() - timeMedianCStart\n",
    "  println(\"Average for \" + fileC + \": average: \" + avgC + \", timing: (In nano seconds) \" + timeAvgC)\n",
    "  println(\"Median for \" + fileC + \": median: \" + medianC + \" , timing: (In nano seconds) \" + timeMedianC)\n",
    "\n",
    "}\n",
    "\n",
    "// Will not call function as these require direct file access"
   ]
  },
  {
   "cell_type": "markdown",
   "metadata": {},
   "source": [
    "## 9. minmax(values: Array[Int])\n",
    "\n",
    "Write a function minmax(values: Array[Int]) that returns a pair containing the smallest and\n",
    "the largest values in the array."
   ]
  },
  {
   "cell_type": "code",
   "execution_count": 24,
   "metadata": {},
   "outputs": [
    {
     "data": {
      "text/plain": [
       "defined \u001b[32mfunction\u001b[39m \u001b[36mminmax\u001b[39m\r\n",
       "\u001b[36mtest1\u001b[39m: \u001b[32mArray\u001b[39m[\u001b[32mInt\u001b[39m] = \u001b[33mArray\u001b[39m(\u001b[32m1\u001b[39m, \u001b[32m2\u001b[39m, \u001b[32m3\u001b[39m, \u001b[32m1\u001b[39m, \u001b[32m3\u001b[39m, \u001b[32m6\u001b[39m, \u001b[32m6\u001b[39m)\r\n",
       "\u001b[36mtest2\u001b[39m: \u001b[32mArray\u001b[39m[\u001b[32mInt\u001b[39m] = \u001b[33mArray\u001b[39m(\u001b[32m1\u001b[39m, \u001b[32m2\u001b[39m, \u001b[32m3\u001b[39m, \u001b[32m1\u001b[39m, \u001b[32m3\u001b[39m, \u001b[32m6\u001b[39m, \u001b[32m6\u001b[39m, \u001b[32m6\u001b[39m, \u001b[32m7\u001b[39m, \u001b[32m2\u001b[39m, \u001b[32m5\u001b[39m, \u001b[32m9\u001b[39m, \u001b[32m8\u001b[39m, \u001b[32m8\u001b[39m, \u001b[32m5\u001b[39m, \u001b[32m1\u001b[39m, \u001b[32m9\u001b[39m)\r\n",
       "\u001b[36mtest3\u001b[39m: \u001b[32mArray\u001b[39m[\u001b[32mInt\u001b[39m] = \u001b[33mArray\u001b[39m(\u001b[32m10\u001b[39m, \u001b[32m10\u001b[39m, \u001b[32m10\u001b[39m, \u001b[32m10\u001b[39m, \u001b[32m11\u001b[39m, \u001b[32m10\u001b[39m, \u001b[32m10\u001b[39m, \u001b[32m10\u001b[39m, \u001b[32m9\u001b[39m, \u001b[32m10\u001b[39m, \u001b[32m1\u001b[39m)\r\n",
       "\u001b[36mres23_4\u001b[39m: (\u001b[32mInt\u001b[39m, \u001b[32mInt\u001b[39m) = (\u001b[32m1\u001b[39m, \u001b[32m6\u001b[39m)\r\n",
       "\u001b[36mres23_5\u001b[39m: (\u001b[32mInt\u001b[39m, \u001b[32mInt\u001b[39m) = (\u001b[32m1\u001b[39m, \u001b[32m9\u001b[39m)\r\n",
       "\u001b[36mres23_6\u001b[39m: (\u001b[32mInt\u001b[39m, \u001b[32mInt\u001b[39m) = (\u001b[32m1\u001b[39m, \u001b[32m11\u001b[39m)"
      ]
     },
     "execution_count": 24,
     "metadata": {},
     "output_type": "execute_result"
    }
   ],
   "source": [
    "// #9\n",
    "def minmax(values: Array[Int]): (Int, Int) = {\n",
    "  val minValue = values.reduceLeft(_ min _)\n",
    "  val maxValue = values.reduceLeft(_ max _)\n",
    "  return (minValue, maxValue)\n",
    "}\n",
    "\n",
    "val test1 = Array(1, 2, 3, 1, 3, 6, 6)\n",
    "val test2 = Array(1, 2, 3, 1, 3, 6, 6, 6, 7, 2, 5, 9, 8, 8, 5, 1, 9)\n",
    "val test3 = Array (10, 10, 10, 10, 11, 10, 10, 10, 9, 10, 1)\n",
    "minmax(test1)\n",
    "minmax(test2)\n",
    "minmax(test3)"
   ]
  },
  {
   "cell_type": "markdown",
   "metadata": {},
   "source": [
    "## 10. Car(manufacturer, modelName, modelYear, licensePlate)\n",
    "\n",
    "Make a class Car with read-only properties for manufacturer, model name, and model year,\n",
    "and a read-write property for the license plate. Supply four constructors. All require the\n",
    "manufacturer and model name. Optionally, model year and license plate can also be speci-\n",
    "fied in the constructor. If not, the model year is set to -1 and the license plate to the empty\n",
    "string. Which constructor are you choosing as the primary constructor? Why?\n",
    "\n",
    "**-- Class declaration contains the primary constructor as it takes all four arguments. The other three constructors can easily refer to the primary.**"
   ]
  },
  {
   "cell_type": "code",
   "execution_count": 29,
   "metadata": {},
   "outputs": [
    {
     "data": {
      "text/plain": [
       "defined \u001b[32mclass\u001b[39m \u001b[36mCar\u001b[39m\r\n",
       "\u001b[36mtestCar1\u001b[39m: \u001b[32mwrapper\u001b[39m.\u001b[32mwrapper\u001b[39m.\u001b[32mCar\u001b[39m = 2003 Honda Civic, License Plate: ABCD123\r\n",
       "\u001b[36mres28_2\u001b[39m: \u001b[32mString\u001b[39m = \u001b[32m\"2003 Honda Civic, License Plate: ABCD123\"\u001b[39m\r\n",
       "\u001b[36mtestCar2\u001b[39m: \u001b[32mwrapper\u001b[39m.\u001b[32mwrapper\u001b[39m.\u001b[32mCar\u001b[39m = -1 Honda Civic, License Plate: \r\n",
       "\u001b[36mres28_4\u001b[39m: \u001b[32mString\u001b[39m = \u001b[32m\"-1 Honda Civic, License Plate: \"\u001b[39m\r\n",
       "\u001b[36mtestCar3\u001b[39m: \u001b[32mwrapper\u001b[39m.\u001b[32mwrapper\u001b[39m.\u001b[32mCar\u001b[39m = 2003 Honda Civic, License Plate: \r\n",
       "\u001b[36mres28_6\u001b[39m: \u001b[32mString\u001b[39m = \u001b[32m\"2003 Honda Civic, License Plate: \"\u001b[39m\r\n",
       "\u001b[36mtestCar4\u001b[39m: \u001b[32mwrapper\u001b[39m.\u001b[32mwrapper\u001b[39m.\u001b[32mCar\u001b[39m = -1 Honda Civic, License Plate: ABCD123\r\n",
       "\u001b[36mres28_8\u001b[39m: \u001b[32mString\u001b[39m = \u001b[32m\"-1 Honda Civic, License Plate: ABCD123\"\u001b[39m"
      ]
     },
     "execution_count": 29,
     "metadata": {},
     "output_type": "execute_result"
    }
   ],
   "source": [
    "class Car(val manufacturer:String, val modelName:String, val modelYear:Int = -1, var licensePlate:String = \"\") {\n",
    "\n",
    "  def this(manufacturer: String, modelName: String) {\n",
    "    this(manufacturer, modelName, -1, \"\")\n",
    "  }\n",
    "\n",
    "  def this(manufacturer: String, modelName: String, modelYear: Int) {\n",
    "    this(manufacturer, modelName, modelYear, \"\")\n",
    "  }\n",
    "\n",
    "  def this(manufacturer: String, modelName: String, licensePlate: String) {\n",
    "    this(manufacturer, modelName, -1, licensePlate)\n",
    "  }\n",
    "    \n",
    "  override def toString: String = {\n",
    "    return \"%d %s %s, License Plate: %s\".format(modelYear, manufacturer, modelName, licensePlate)\n",
    "  }\n",
    "}\n",
    "\n",
    "val testCar1 = new Car(\"Honda\", \"Civic\", 2003, \"ABCD123\")\n",
    "testCar1.toString\n",
    "val testCar2 = new Car(\"Honda\", \"Civic\")\n",
    "testCar2.toString\n",
    "val testCar3 = new Car(\"Honda\", \"Civic\", 2003)\n",
    "testCar3.toString\n",
    "val testCar4 = new Car(\"Honda\", \"Civic\", \"ABCD123\")\n",
    "testCar4.toString\n"
   ]
  },
  {
   "cell_type": "code",
   "execution_count": null,
   "metadata": {
    "collapsed": true
   },
   "outputs": [],
   "source": []
  }
 ],
 "metadata": {
  "kernelspec": {
   "display_name": "Scala",
   "language": "scala",
   "name": "scala"
  },
  "language_info": {
   "codemirror_mode": "text/x-scala",
   "file_extension": ".scala",
   "mimetype": "text/x-scala",
   "name": "scala211",
   "nbconvert_exporter": "script",
   "pygments_lexer": "scala",
   "version": "2.11.11"
  }
 },
 "nbformat": 4,
 "nbformat_minor": 2
}
